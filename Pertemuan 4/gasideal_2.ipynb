{
 "cells": [
  {
   "cell_type": "markdown",
   "id": "e8d6bb42",
   "metadata": {},
   "source": [
    "# Gerak Bola Didalam Kotak\n",
    "Yoyok Adisetio Laksono, 2025\\\n",
    "Departemen Fisika FMIPA UM"
   ]
  },
  {
   "cell_type": "markdown",
   "id": "a526233d",
   "metadata": {},
   "source": [
    "## Siapkan pustaka yang diperlukan\n",
    "Dalam pustaka ini disiapkan dengan backend wx. Untuk itu perlu diinstall wxPython dengan perintah:\n",
    "\n",
    "<p style=\"font-family:Courier New; font-size: 18px;\"> conda install wxPython -y</p"
   ]
  },
  {
   "cell_type": "code",
   "execution_count": 8,
   "id": "a8d7339d",
   "metadata": {},
   "outputs": [],
   "source": [
    "%matplotlib wx\n",
    "import numpy as np\n",
    "import matplotlib.pyplot as plt\n",
    "from matplotlib.animation import FuncAnimation"
   ]
  },
  {
   "cell_type": "markdown",
   "id": "94dcd0d9",
   "metadata": {},
   "source": [
    "## Konstanta Fisika dan parameter simulasi\n",
    "![Kotak bola](box_gas_ideal.png)\\\n",
    "Gambar 1. Kotak batas dan bola untuk simulasi gas ideal."
   ]
  },
  {
   "cell_type": "code",
   "execution_count": 9,
   "id": "b3e827eb",
   "metadata": {},
   "outputs": [],
   "source": [
    "JUMLAH_PARTIKEL = 50\n",
    "UKURAN_KOTAK = 100\n",
    "RADIUS_PARTIKEL = 1\n",
    "LANGKAH_WAKTU = 0.1"
   ]
  },
  {
   "cell_type": "markdown",
   "id": "493498ad",
   "metadata": {},
   "source": [
    "<b>Fungsi Animasi</b>\\\n",
    "Memindah setiap posisi per LANGKAH_WAKTU dengan\n",
    "$$\n",
    "posisi[i] = posisi[i] + kecepatan[i] * LANGKAH\\_WAKTU\n",
    "$$\n",
    "dan memeriksa apakah menabrak dinding? Persamaan pemeriksa apakah berada di daerah kotak berwarna merah adalah\n",
    "\n",
    "$$\n",
    "RADIUS\\_PARTIKEL <= (x,y) <= (UKURAN\\_KOTAK - RADIUS\\_PARTIKEL)\n",
    "$$\n",
    "Dalam kode program diberi not yang berarti di luar daerah kotak merah. Jika ya (diluar kotak merah) maka arah kecepatan diubah (dinegasi).\n",
    "\n",
    "Seperti halnya simulasi gerak jatuh bebas, saat dua partikel bertumbukan ada kemungkinan jarak antar bola adalah $r < 2 RADIUS\\_PARTIKEL$ seperti terlihat di Gambar 2 ini.\n",
    "\n",
    "![Kotak bola](bola_tumbuk.png)\\\n",
    "Gambar 2. Perbandingan kondisi nyata dan simulasi saat dua buah bola bertumbukan.\n",
    "\n",
    "Pemeriksaan apakah dua bola bertumbukan dengan menghitung jarak bola dengan rumus:\n",
    "$$\n",
    "r=\\sqrt{(x_1 - x_2)^2 + (y_1 - y_2)^2}\n",
    "$$\n",
    "Jadi didalam program jika $r<=2 RADIUS\\_PARTIKEL$ maka dianggap terjadi tumbukan.\n",
    "\n",
    "Adapun kecepatan setelah saling bertumbukan elastik dimana jumlah energi konservativ + momentum + momentum angular adalah sama maka diperoleh persamaan sebagai berikut:\n",
    "\n",
    "$$\\vec{v}_1^{\\text{new}} = \\vec{v}_1 - \\frac{(\\vec{v}_1 - \\vec{v}_2) \\cdot (\\vec{r}_1 - \\vec{r}_2)}{|\\vec{r}_1 - \\vec{r}_2|^2} (\\vec{r}_1 - \\vec{r}_2)$$\n",
    "$$\\vec{v}_2^{\\text{new}} = \\vec{v}_2 - \\frac{(\\vec{v}_2 - \\vec{v}_1) \\cdot (\\vec{r}_2 - \\vec{r}_1)}{|\\vec{r}_1 - \\vec{r}_2|^2} (\\vec{r}_2 - \\vec{r}_1)$$"
   ]
  },
  {
   "cell_type": "code",
   "execution_count": 10,
   "id": "454f0e60",
   "metadata": {},
   "outputs": [],
   "source": [
    "def animasi(frame):\n",
    "    global posisi, kecepatan\n",
    "    # Memperbarui posisi partikel\n",
    "    for i in range(JUMLAH_PARTIKEL):\n",
    "        posisi[i] += kecepatan[i] * LANGKAH_WAKTU\n",
    "        # Memeriksa tumbukan dengan dinding\n",
    "        for d in range(2):\n",
    "            if not RADIUS_PARTIKEL <= posisi[i, d] <= UKURAN_KOTAK - RADIUS_PARTIKEL:\n",
    "                kecepatan[i, d] *= -1\n",
    "                posisi[i, d] = np.clip(posisi[i, d], RADIUS_PARTIKEL, UKURAN_KOTAK - RADIUS_PARTIKEL)\n",
    "\n",
    "    # Memeriksa tumbukan antar partikel\n",
    "    for i in range(JUMLAH_PARTIKEL):\n",
    "        for j in range(i + 1, JUMLAH_PARTIKEL):\n",
    "            dist_vec = posisi[i] - posisi[j]\n",
    "            dist_sq = np.sum(dist_vec**2)\n",
    "            if dist_sq <= (2 * RADIUS_PARTIKEL)**2:\n",
    "                dist = np.sqrt(dist_sq)\n",
    "                if dist == 0:\n",
    "                    continue\n",
    "                dist_norm = dist_vec / dist\n",
    "                v1_dot_n = np.dot(kecepatan[i], dist_norm)\n",
    "                v2_dot_n = np.dot(kecepatan[j], dist_norm)\n",
    "                kecepatan[i] += (v2_dot_n - v1_dot_n) * dist_norm\n",
    "                kecepatan[j] += (v1_dot_n - v2_dot_n) * dist_norm\n",
    "    \n",
    "    scat.set_offsets(posisi)\n",
    "    scat.set_color(colors)\n",
    "    ax.set_title(f'Frame: {frame}')\n",
    "    return scat,\n",
    "\n",
    "# Menutup jendela/menghentikan animasi dengan menekan tombol 'Esc'\n",
    "def on_key(event):\n",
    "    if event.key == 'escape':\n",
    "        plt.close(fig)"
   ]
  },
  {
   "cell_type": "markdown",
   "id": "1791e850",
   "metadata": {},
   "source": [
    "Inisialisasi posisi partikel secara acak"
   ]
  },
  {
   "cell_type": "code",
   "execution_count": 11,
   "id": "094d03c3",
   "metadata": {},
   "outputs": [
    {
     "name": "stdout",
     "output_type": "stream",
     "text": [
      "Data posisi:\n",
      "[[37.70493165 94.17000203]\n",
      " [72.7354063  59.66853145]\n",
      " [16.28982676 16.28746299]\n",
      " [ 6.69219399 85.88526229]\n",
      " [59.90927115 70.39111262]\n",
      " [ 3.01728044 96.05116551]\n",
      " [82.5793788  21.80923285]\n",
      " [18.81884679 18.97364197]\n",
      " [30.81573981 52.4261303 ]\n",
      " [43.33061183 29.54045574]\n",
      " [60.96158368 14.67039834]\n",
      " [29.63017556 36.90346064]\n",
      " [45.69485845 77.94724422]\n",
      " [20.56803065 51.39497496]\n",
      " [59.05662775  5.55214045]\n",
      " [60.53939549 17.71136412]\n",
      " [ 7.37505611 93.99078265]\n",
      " [95.63193924 80.22294012]\n",
      " [30.85214938 10.57186717]\n",
      " [68.0548366  44.13494439]\n",
      " [12.95974701 49.52733719]\n",
      " [ 4.37007507 90.1133994 ]\n",
      " [26.3604382  65.92718387]\n",
      " [31.54768546 51.96666608]\n",
      " [54.57760738 19.11573664]\n",
      " [96.01929352 76.96301669]\n",
      " [93.07089627 88.69308034]\n",
      " [59.59419792 91.34367503]\n",
      " [ 9.6722652  20.20632052]\n",
      " [ 5.43227431 32.88237241]\n",
      " [39.09037439 27.59220511]\n",
      " [82.2162759  35.96182602]\n",
      " [28.53158195 54.18421615]\n",
      " [14.81057405 79.61530411]\n",
      " [ 8.30596308 97.71491979]\n",
      " [76.67998739 20.47413679]\n",
      " [ 1.54116748 80.91521999]\n",
      " [70.2720197  72.44270247]\n",
      " [76.58449398  8.25637587]\n",
      " [36.1296414  12.35516783]\n",
      " [85.58413574 62.08321643]\n",
      " [33.42800644  7.22871833]\n",
      " [31.47626753 32.86796556]\n",
      " [72.50140548 63.48063219]\n",
      " [87.94684877 47.27706267]\n",
      " [12.7202361  70.89798915]\n",
      " [75.55693476 56.00516536]\n",
      " [76.55478364 49.39196844]\n",
      " [52.22781728 42.8990198 ]\n",
      " [ 3.49107442 11.57335985]]\n",
      "Data kecepatan:\n",
      "[[ 0.08704707 -0.29900735]\n",
      " [ 0.09176078 -1.98756891]\n",
      " [-0.21967189  0.35711257]\n",
      " [ 1.47789404 -0.51827022]\n",
      " [-0.8084936  -0.50175704]\n",
      " [ 0.91540212  0.32875111]\n",
      " [-0.5297602   0.51326743]\n",
      " [ 0.09707755  0.96864499]\n",
      " [-0.70205309 -0.32766215]\n",
      " [-0.39210815 -1.46351495]\n",
      " [ 0.29612028  0.26105527]\n",
      " [ 0.00511346 -0.23458713]\n",
      " [-1.41537074 -0.42064532]\n",
      " [-0.34271452 -0.80227727]\n",
      " [-0.16128571  0.40405086]\n",
      " [ 1.8861859   0.17457781]\n",
      " [ 0.25755039 -0.07444592]\n",
      " [-1.91877122 -0.02651388]\n",
      " [ 0.06023021  2.46324211]\n",
      " [-0.19236096  0.30154734]\n",
      " [-0.03471177 -1.16867804]\n",
      " [ 1.14282281  0.75193303]\n",
      " [ 0.79103195 -0.90938745]\n",
      " [ 1.40279431 -1.40185106]\n",
      " [ 0.58685709  2.19045563]\n",
      " [-0.99053633 -0.56629773]\n",
      " [ 0.09965137 -0.50347565]\n",
      " [-1.55066343  0.06856297]\n",
      " [-1.06230371  0.47359243]\n",
      " [-0.91942423  1.54993441]\n",
      " [-0.78325329 -0.32206152]\n",
      " [ 0.81351722 -1.23086432]\n",
      " [ 0.22745993  1.30714275]\n",
      " [-1.60748323  0.18463386]\n",
      " [ 0.25988279  0.78182287]\n",
      " [-1.23695071 -1.32045661]\n",
      " [ 0.52194157  0.29698467]\n",
      " [ 0.25049285  0.34644821]\n",
      " [-0.68002472  0.2322537 ]\n",
      " [ 0.29307247 -0.71435142]\n",
      " [ 1.86577451  0.47383292]\n",
      " [-1.1913035   0.65655361]\n",
      " [-0.97468167  0.7870846 ]\n",
      " [ 1.15859558 -0.82068232]\n",
      " [ 0.96337613  0.41278093]\n",
      " [ 0.82206016  1.89679298]\n",
      " [-0.24538812 -0.75373616]\n",
      " [-0.88951443 -0.81581028]\n",
      " [-0.07710171  0.34115197]\n",
      " [ 0.2766908   0.82718325]]\n"
     ]
    }
   ],
   "source": [
    "np.random.seed(42)  # untuk hasil yang dapat direproduksi\n",
    "posisi = np.random.uniform(RADIUS_PARTIKEL, UKURAN_KOTAK - RADIUS_PARTIKEL, size=(JUMLAH_PARTIKEL,2))\n",
    "kecepatan = np.random.normal(loc=0, scale=1, size=(JUMLAH_PARTIKEL,2))\n",
    "print(\"Data posisi:\")\n",
    "print(posisi)\n",
    "print(\"Data kecepatan:\")\n",
    "print(kecepatan)"
   ]
  },
  {
   "cell_type": "markdown",
   "id": "6d14e5b2",
   "metadata": {},
   "source": [
    "Menyiapkan grafik tempat simulasi bola"
   ]
  },
  {
   "cell_type": "code",
   "execution_count": 12,
   "id": "6efa4b4f",
   "metadata": {},
   "outputs": [
    {
     "data": {
      "text/plain": [
       "14"
      ]
     },
     "execution_count": 12,
     "metadata": {},
     "output_type": "execute_result"
    }
   ],
   "source": [
    "fig, ax = plt.subplots(figsize=(6, 6))\n",
    "colors = np.array(['blue'] * JUMLAH_PARTIKEL)\n",
    "scat = ax.scatter(posisi[:, 0], posisi[:, 1], s=50, c=colors)\n",
    "ax.set_xlim(0, UKURAN_KOTAK)\n",
    "ax.set_ylim(0, UKURAN_KOTAK)\n",
    "ax.set_aspect('equal')\n",
    "# Memproses keypress events\n",
    "fig.canvas.mpl_connect('key_press_event', on_key)"
   ]
  },
  {
   "cell_type": "markdown",
   "id": "f5b85e2f",
   "metadata": {},
   "source": [
    "Animasi gerak bola"
   ]
  },
  {
   "cell_type": "code",
   "execution_count": 13,
   "id": "39fb9756",
   "metadata": {},
   "outputs": [],
   "source": [
    "ani = FuncAnimation(fig, animasi, interval=1, frames=None, blit=True, repeat=False, cache_frame_data=False)\n",
    "plt.show()"
   ]
  },
  {
   "cell_type": "markdown",
   "id": "57834da8",
   "metadata": {},
   "source": [
    "## Tugas\n",
    "Dalam program di atas ada partikel yang saling menempel. Hal ini disebabkan karena partikel saat diberi posisi ternyata sudah bertumbukan. Saat dijalankan ternyata tumbukannnya tidak mampu melepas kondisi tumbukan. Ubahlah agar program tidak saling overlap posisinya saat program diberi posisi awal. Jika ditemukan overlap harus dipindah agar tidak overlap."
   ]
  }
 ],
 "metadata": {
  "kernelspec": {
   "display_name": "fkl",
   "language": "python",
   "name": "python3"
  },
  "language_info": {
   "codemirror_mode": {
    "name": "ipython",
    "version": 3
   },
   "file_extension": ".py",
   "mimetype": "text/x-python",
   "name": "python",
   "nbconvert_exporter": "python",
   "pygments_lexer": "ipython3",
   "version": "3.13.7"
  }
 },
 "nbformat": 4,
 "nbformat_minor": 5
}
